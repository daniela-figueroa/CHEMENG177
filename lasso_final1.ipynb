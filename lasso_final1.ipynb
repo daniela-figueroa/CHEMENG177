{
  "cells": [
    {
      "cell_type": "markdown",
      "metadata": {
        "id": "view-in-github",
        "colab_type": "text"
      },
      "source": [
        "<a href=\"https://colab.research.google.com/github/daniela-figueroa/CHEMENG177/blob/main/lasso_final1.ipynb\" target=\"_parent\"><img src=\"https://colab.research.google.com/assets/colab-badge.svg\" alt=\"Open In Colab\"/></a>"
      ]
    },
    {
      "cell_type": "markdown",
      "metadata": {
        "id": "gzVhqrUwLg_k"
      },
      "source": [
        "# Lasso Regression for Ionic Conductivity"
      ]
    },
    {
      "cell_type": "markdown",
      "metadata": {
        "id": "o-Ii4_-VLg_q"
      },
      "source": [
        "### Import Libraries"
      ]
    },
    {
      "cell_type": "code",
      "execution_count": 34,
      "metadata": {
        "colab": {
          "base_uri": "https://localhost:8080/"
        },
        "id": "Dg1y7KWMLg_r",
        "outputId": "10e06853-6104-4119-aa2d-8eb1b3f60bea"
      },
      "outputs": [
        {
          "output_type": "stream",
          "name": "stdout",
          "text": [
            "Requirement already satisfied: plotly in /usr/local/lib/python3.11/dist-packages (5.24.1)\n",
            "Requirement already satisfied: tenacity>=6.2.0 in /usr/local/lib/python3.11/dist-packages (from plotly) (9.0.0)\n",
            "Requirement already satisfied: packaging in /usr/local/lib/python3.11/dist-packages (from plotly) (24.2)\n"
          ]
        }
      ],
      "source": [
        "pip install plotly\n"
      ]
    },
    {
      "cell_type": "code",
      "execution_count": 35,
      "metadata": {
        "id": "FSZKeoKrLg_u"
      },
      "outputs": [],
      "source": [
        "import numpy as np\n",
        "import pandas as pd\n",
        "import plotly\n",
        "\n",
        "from sklearn.linear_model import Lasso\n",
        "from sklearn.linear_model import LassoCV\n",
        "from sklearn.model_selection import train_test_split\n",
        "from sklearn.metrics import accuracy_score\n",
        "from sklearn.metrics import r2_score, mean_squared_error\n"
      ]
    },
    {
      "cell_type": "markdown",
      "metadata": {
        "id": "bfS8FtpfLg_w"
      },
      "source": [
        "### Import data"
      ]
    },
    {
      "cell_type": "code",
      "source": [
        "from google.colab import drive\n",
        "drive.mount('/content/drive')"
      ],
      "metadata": {
        "colab": {
          "base_uri": "https://localhost:8080/"
        },
        "id": "-qP5WDB5XHxk",
        "outputId": "b4e41574-beb4-4294-8d93-5a4988e7b2f0"
      },
      "execution_count": 36,
      "outputs": [
        {
          "output_type": "stream",
          "name": "stdout",
          "text": [
            "Drive already mounted at /content/drive; to attempt to forcibly remount, call drive.mount(\"/content/drive\", force_remount=True).\n"
          ]
        }
      ]
    },
    {
      "cell_type": "code",
      "execution_count": 37,
      "metadata": {
        "colab": {
          "base_uri": "https://localhost:8080/"
        },
        "id": "6ToiGmVRLg_x",
        "outputId": "d19a9cc1-b9c5-409c-b069-d3f1100ad6ce"
      },
      "outputs": [
        {
          "output_type": "stream",
          "name": "stdout",
          "text": [
            "Index(['Unnamed: 0', 'doi', 'k', 'T', 'c', 'salt', 'c units',\n",
            "       'solvent ratio type', 'EC', 'PC', 'DMC', 'EMC', 'DEC', 'DME', 'DMSO',\n",
            "       'AN', 'MOEMC', 'TFP', 'EA', 'MA', 'FEC', 'DOL', '2-MeTHF', 'DMM',\n",
            "       'Freon 11', 'Methylene chloride', 'THF', 'Toluene', 'Sulfolane',\n",
            "       '2-Glyme', '3-Glyme', '4-Glyme', '3-Me-2-Oxazolidinone',\n",
            "       '3-MeSulfolane', 'Ethyldiglyme', 'DMF', 'Ethylbenzene',\n",
            "       'Ethylmonoglyme', 'Benzene', 'g-Butyrolactone', 'Cumene',\n",
            "       'Propylsulfone', 'Pseudocumeme', 'TEOS', 'm-Xylene', 'o-Xylene'],\n",
            "      dtype='object')\n"
          ]
        }
      ],
      "source": [
        "elyte_conductivity_data = pd.read_csv(\"/content/drive/My Drive/Pre-processed CALiSol Data.csv\")\n",
        "print(elyte_conductivity_data.columns)"
      ]
    },
    {
      "cell_type": "code",
      "execution_count": 38,
      "metadata": {
        "colab": {
          "base_uri": "https://localhost:8080/"
        },
        "id": "5FbYi3IbLg_y",
        "outputId": "bfb52593-3d0a-44de-b15d-e0b7bf2f5329"
      },
      "outputs": [
        {
          "output_type": "stream",
          "name": "stdout",
          "text": [
            "Number of solvents: 37\n"
          ]
        }
      ],
      "source": [
        "print(f'Number of solvents: {len(elyte_conductivity_data.columns) - 9}')"
      ]
    },
    {
      "cell_type": "markdown",
      "metadata": {
        "id": "Z43bF-dgLg_z"
      },
      "source": [
        "### Arrange data"
      ]
    },
    {
      "cell_type": "code",
      "execution_count": 39,
      "metadata": {
        "id": "w5Si_TD1Lg_0"
      },
      "outputs": [],
      "source": [
        "# elyte_conductivity_data.drop(['c units', 'solvent ratio type'], axis=1)\n",
        "cols = elyte_conductivity_data.columns[3:]\n",
        "\n",
        "X = elyte_conductivity_data[cols]\n",
        "X = X.drop(['c units', 'solvent ratio type'],axis=1)\n",
        "y = elyte_conductivity_data['k']\n",
        "\n",
        "lambdas = [.1, 1, 10, 100]\n"
      ]
    },
    {
      "cell_type": "markdown",
      "metadata": {
        "id": "FzJqNK27Lg_1"
      },
      "source": [
        "### Select data from most interesting salts\n",
        "#### LiPF6, LiBF4, LiAsF6, LiBOB"
      ]
    },
    {
      "cell_type": "code",
      "execution_count": 40,
      "metadata": {
        "id": "IT_EqblTLg_1"
      },
      "outputs": [],
      "source": [
        "# I wish I could write beautiful, object oriented code here but that just wouldn't be me now would it\n",
        "# LiPF6\n",
        "indices_LiPF6 = X[X['salt'] == 'LiPF6'].index\n",
        "X_LiPF6 = X[X['salt'] == 'LiPF6'].drop(['salt'], axis=1)\n",
        "y_LiPF6 = y.loc[indices_LiPF6]\n",
        "\n",
        "# LiBF4\n",
        "indices_LiBF4 = X[X['salt'] == 'LiBF4'].index\n",
        "X_LiBF4 = X[X['salt'] == 'LiBF4'].drop(['salt'], axis=1)\n",
        "y_LiBF4 = y.loc[indices_LiBF4]\n",
        "\n",
        "# LiAsF6\n",
        "indices_LiAsF6 = X[X['salt'] == 'LiAsF6'].index\n",
        "X_LiAsF6 = X[X['salt'] == 'LiAsF6'].drop(['salt'], axis=1)\n",
        "y_LiAsF6 = y.loc[indices_LiAsF6]\n",
        "\n",
        "# LiBOB\n",
        "indices_LiBOB = X[X['salt'] == 'LiBOB'].index\n",
        "X_LiBOB = X[X['salt'] == 'LiBOB'].drop(['salt'], axis=1)\n",
        "y_LiBOB = y.loc[indices_LiBOB]"
      ]
    },
    {
      "cell_type": "markdown",
      "metadata": {
        "id": "Xv43X-yTLg_3"
      },
      "source": [
        "### Function for implementing lasso regression and evaluation"
      ]
    },
    {
      "cell_type": "code",
      "execution_count": 41,
      "metadata": {
        "id": "IiKIuEhULg_4"
      },
      "outputs": [],
      "source": [
        "def lassoregress(X, y, a):\n",
        "    lasso = Lasso(alpha=a)\n",
        "    # Test-train split\n",
        "    X_train, X_test, y_train, y_test = train_test_split(X, y, test_size=0.2, train_size=0.8, random_state=137)\n",
        "    lasso.fit(X_train, y_train)\n",
        "\n",
        "    # Cross-validation for best alpha\n",
        "    lasso_cv = LassoCV(alphas=lambdas)\n",
        "    lasso_cv.fit(X_train, y_train)\n",
        "    best_lambda = lasso_cv.alpha_\n",
        "    print(f'Best lambda is {best_lambda}')\n",
        "\n",
        "    # Evaluation\n",
        "    y_pred = lasso.predict(X_test)\n",
        "    r2 = r2_score(y_test, y_pred)\n",
        "    mse = mean_squared_error(y_test, y_pred)\n",
        "    return r2, mse\n",
        "\n",
        "r2s = np.zeros(4)\n",
        "mses = np.zeros(4)"
      ]
    },
    {
      "cell_type": "markdown",
      "metadata": {
        "id": "oEnrabfyLg_5"
      },
      "source": [
        "### LiPF6 Lasso Regression (\"1\")"
      ]
    },
    {
      "cell_type": "code",
      "execution_count": 42,
      "metadata": {
        "colab": {
          "base_uri": "https://localhost:8080/"
        },
        "id": "OD_eKiofLg_6",
        "outputId": "8ab9dc19-84ab-4a18-ed4d-4692c6bb956e"
      },
      "outputs": [
        {
          "output_type": "stream",
          "name": "stdout",
          "text": [
            "Best lambda is 0.1\n",
            "R² Score: 0.7807\n",
            "MSE: 3.9166\n"
          ]
        }
      ],
      "source": [
        "r2_LiPF6, mse_LiPF6 = lassoregress(X_LiPF6,y_LiPF6,0.1)\n",
        "print(f\"R² Score: {r2_LiPF6:.4f}\")\n",
        "print(f\"MSE: {mse_LiPF6:.4f}\")\n",
        "r2s[0] = r2_LiPF6\n",
        "mses[0] = mse_LiPF6"
      ]
    },
    {
      "cell_type": "markdown",
      "metadata": {
        "id": "U8Qs9fevLg_7"
      },
      "source": [
        "### LiBF4 Lasso Regression (\"2\")"
      ]
    },
    {
      "cell_type": "code",
      "execution_count": 43,
      "metadata": {
        "colab": {
          "base_uri": "https://localhost:8080/"
        },
        "id": "HFlAht9_Lg_8",
        "outputId": "2a73b09c-2d15-439e-f30e-2c8b83615da5"
      },
      "outputs": [
        {
          "output_type": "stream",
          "name": "stdout",
          "text": [
            "Best lambda is 0.1\n",
            "R² Score: 0.6566\n",
            "MSE: 0.9768\n"
          ]
        }
      ],
      "source": [
        "r2_LiBF4, mse_LiBF4 = lassoregress(X_LiBF4,y_LiBF4,10.0)\n",
        "print(f\"R² Score: {r2_LiBF4:.4f}\")\n",
        "print(f\"MSE: {mse_LiBF4:.4f}\")\n",
        "r2s[1] = r2_LiBF4\n",
        "mses[1] = mse_LiBF4"
      ]
    },
    {
      "cell_type": "markdown",
      "metadata": {
        "id": "1pvoSo9qLg_9"
      },
      "source": [
        "### LiAsF6 Lasso Regression (\"3\")"
      ]
    },
    {
      "cell_type": "code",
      "execution_count": 44,
      "metadata": {
        "colab": {
          "base_uri": "https://localhost:8080/"
        },
        "id": "KQdw_kjYLhAA",
        "outputId": "10d01c8d-5cf8-4e13-d557-1b1c6870fcca"
      },
      "outputs": [
        {
          "output_type": "stream",
          "name": "stdout",
          "text": [
            "Best lambda is 0.1\n",
            "R² Score: 0.4607\n",
            "MSE: 20.5842\n"
          ]
        }
      ],
      "source": [
        "r2_LiAsF6, mse_LiAsF6 = lassoregress(X_LiAsF6,y_LiAsF6,10.0)\n",
        "print(f\"R² Score: {r2_LiAsF6:.4f}\")\n",
        "print(f\"MSE: {mse_LiAsF6:.4f}\")\n",
        "r2s[2] = r2_LiAsF6\n",
        "mses[2] = mse_LiAsF6"
      ]
    },
    {
      "cell_type": "markdown",
      "metadata": {
        "id": "T6zsx06TLhAB"
      },
      "source": [
        "### LiBOB Lasso Regression (\"4\")"
      ]
    },
    {
      "cell_type": "code",
      "execution_count": 45,
      "metadata": {
        "colab": {
          "base_uri": "https://localhost:8080/"
        },
        "id": "xPShsxPuLhAB",
        "outputId": "298ff8fd-431e-41c4-a7f1-d0595d14dec0"
      },
      "outputs": [
        {
          "output_type": "stream",
          "name": "stdout",
          "text": [
            "Best lambda is 0.1\n",
            "R² Score: 0.7022\n",
            "MSE: 4.2779\n"
          ]
        }
      ],
      "source": [
        "r2_LiBOB, mse_LiBOB = lassoregress(X_LiBOB,y_LiBOB,1.0)\n",
        "print(f\"R² Score: {r2_LiBOB:.4f}\")\n",
        "print(f\"MSE: {mse_LiBOB:.4f}\")\n",
        "r2s[3] = r2_LiBOB\n",
        "mses[3] = mse_LiBOB"
      ]
    },
    {
      "cell_type": "markdown",
      "metadata": {
        "id": "jBHV868FLhAC"
      },
      "source": [
        "### Listing Data"
      ]
    },
    {
      "cell_type": "code",
      "execution_count": 46,
      "metadata": {
        "colab": {
          "base_uri": "https://localhost:8080/"
        },
        "id": "uTxy4OgqLhAD",
        "outputId": "5ebdf3bd-9c9d-4c95-dbc4-dd093367262a"
      },
      "outputs": [
        {
          "output_type": "stream",
          "name": "stdout",
          "text": [
            "The R² scores in order: [0.78072416 0.65657036 0.46069696 0.7021824 ]; and the MSEs: [ 3.91660642  0.97680389 20.58419572  4.27793072]\n"
          ]
        }
      ],
      "source": [
        "print(f'The R² scores in order: {r2s}; and the MSEs: {mses}')"
      ]
    },
    {
      "cell_type": "code",
      "execution_count": null,
      "metadata": {
        "id": "32hH_VEfLhAL"
      },
      "outputs": [],
      "source": []
    }
  ],
  "metadata": {
    "kernelspec": {
      "display_name": "matsci176",
      "language": "python",
      "name": "python3"
    },
    "language_info": {
      "codemirror_mode": {
        "name": "ipython",
        "version": 3
      },
      "file_extension": ".py",
      "mimetype": "text/x-python",
      "name": "python",
      "nbconvert_exporter": "python",
      "pygments_lexer": "ipython3",
      "version": "3.13.1"
    },
    "colab": {
      "provenance": [],
      "history_visible": true,
      "include_colab_link": true
    }
  },
  "nbformat": 4,
  "nbformat_minor": 0
}