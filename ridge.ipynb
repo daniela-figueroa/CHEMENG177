{
 "cells": [
  {
   "cell_type": "markdown",
   "metadata": {},
   "source": [
    "# Ridge Regression for Ionic Conductivity"
   ]
  },
  {
   "cell_type": "markdown",
   "metadata": {},
   "source": [
    "### Import Libraries"
   ]
  },
  {
   "cell_type": "code",
   "execution_count": 13,
   "metadata": {},
   "outputs": [
    {
     "name": "stdout",
     "output_type": "stream",
     "text": [
      "Requirement already satisfied: plotly in /Users/natalieclemans/miniconda3/envs/matsci176/lib/python3.13/site-packages (6.0.0)\n",
      "Requirement already satisfied: narwhals>=1.15.1 in /Users/natalieclemans/miniconda3/envs/matsci176/lib/python3.13/site-packages (from plotly) (1.30.0)\n",
      "Requirement already satisfied: packaging in /Users/natalieclemans/miniconda3/envs/matsci176/lib/python3.13/site-packages (from plotly) (24.2)\n",
      "Note: you may need to restart the kernel to use updated packages.\n"
     ]
    }
   ],
   "source": [
    "pip install plotly\n"
   ]
  },
  {
   "cell_type": "code",
   "execution_count": 1,
   "metadata": {},
   "outputs": [],
   "source": [
    "import numpy as np\n",
    "import pandas as pd\n",
    "import plotly\n",
    "\n",
    "from sklearn.linear_model import Ridge\n",
    "from sklearn.linear_model import RidgeCV\n",
    "from sklearn.model_selection import train_test_split\n",
    "from sklearn.metrics import accuracy_score\n",
    "from sklearn.metrics import r2_score, mean_squared_error\n"
   ]
  },
  {
   "cell_type": "markdown",
   "metadata": {},
   "source": [
    "### Import data"
   ]
  },
  {
   "cell_type": "code",
   "execution_count": 2,
   "metadata": {},
   "outputs": [
    {
     "name": "stdout",
     "output_type": "stream",
     "text": [
      "Index(['Unnamed: 0', 'doi', 'k', 'T', 'c', 'salt', 'c units',\n",
      "       'solvent ratio type', 'EC', 'PC', 'DMC', 'EMC', 'DEC', 'DME', 'DMSO',\n",
      "       'AN', 'MOEMC', 'TFP', 'EA', 'MA', 'FEC', 'DOL', '2-MeTHF', 'DMM',\n",
      "       'Freon 11', 'Methylene chloride', 'THF', 'Toluene', 'Sulfolane',\n",
      "       '2-Glyme', '3-Glyme', '4-Glyme', '3-Me-2-Oxazolidinone',\n",
      "       '3-MeSulfolane', 'Ethyldiglyme', 'DMF', 'Ethylbenzene',\n",
      "       'Ethylmonoglyme', 'Benzene', 'g-Butyrolactone', 'Cumene',\n",
      "       'Propylsulfone', 'Pseudocumeme', 'TEOS', 'm-Xylene', 'o-Xylene'],\n",
      "      dtype='object')\n"
     ]
    }
   ],
   "source": [
    "#elyte_conductivity_data = pd.read_csv(\"/Users/natalieclemans/Desktop/MatSci176/Project/CALiSol-23 Dataset.csv\")\n",
    "#elyte_conductivity_data = pd.read_csv(\"CALiSol-23 Dataset.csv\")\n",
    "elyte_conductivity_data = pd.read_csv(\"Pre-processed CALiSol Data.csv\")\n",
    "print(elyte_conductivity_data.columns)"
   ]
  },
  {
   "cell_type": "code",
   "execution_count": 3,
   "metadata": {},
   "outputs": [
    {
     "name": "stdout",
     "output_type": "stream",
     "text": [
      "Number of solvents: 37\n"
     ]
    }
   ],
   "source": [
    "print(f'Number of solvents: {len(elyte_conductivity_data.columns) - 9}')"
   ]
  },
  {
   "cell_type": "markdown",
   "metadata": {},
   "source": [
    "### Arrange data"
   ]
  },
  {
   "cell_type": "code",
   "execution_count": 4,
   "metadata": {},
   "outputs": [],
   "source": [
    "# elyte_conductivity_data.drop(['c units', 'solvent ratio type'], axis=1)\n",
    "cols = elyte_conductivity_data.columns[3:]\n",
    "\n",
    "X = elyte_conductivity_data[cols]\n",
    "X = X.drop(['c units', 'solvent ratio type'],axis=1)\n",
    "y = elyte_conductivity_data['k']\n",
    "\n",
    "lambdas = [.1, 1, 10, 100]\n"
   ]
  },
  {
   "cell_type": "markdown",
   "metadata": {},
   "source": [
    "### Select data from most interesting salts\n",
    "#### LiPF6, LiBF4, LiAsF6, LiBOB"
   ]
  },
  {
   "cell_type": "code",
   "execution_count": 5,
   "metadata": {},
   "outputs": [],
   "source": [
    "# I wish I could write beautiful, object oriented code here but that just wouldn't be me now would it\n",
    "# LiPF6\n",
    "indices_LiPF6 = X[X['salt'] == 'LiPF6'].index\n",
    "X_LiPF6 = X[X['salt'] == 'LiPF6'].drop(['salt'], axis=1)\n",
    "y_LiPF6 = y.loc[indices_LiPF6]\n",
    "\n",
    "# LiBF4\n",
    "indices_LiBF4 = X[X['salt'] == 'LiBF4'].index\n",
    "X_LiBF4 = X[X['salt'] == 'LiBF4'].drop(['salt'], axis=1)\n",
    "y_LiBF4 = y.loc[indices_LiBF4]\n",
    "\n",
    "# LiAsF6\n",
    "indices_LiAsF6 = X[X['salt'] == 'LiAsF6'].index\n",
    "X_LiAsF6 = X[X['salt'] == 'LiAsF6'].drop(['salt'], axis=1)\n",
    "y_LiAsF6 = y.loc[indices_LiAsF6]\n",
    "\n",
    "# LiBOB\n",
    "indices_LiBOB = X[X['salt'] == 'LiBOB'].index\n",
    "X_LiBOB = X[X['salt'] == 'LiBOB'].drop(['salt'], axis=1)\n",
    "y_LiBOB = y.loc[indices_LiBOB]"
   ]
  },
  {
   "cell_type": "markdown",
   "metadata": {},
   "source": [
    "### Function for implementing ridge regression, and evaluation"
   ]
  },
  {
   "cell_type": "code",
   "execution_count": 6,
   "metadata": {},
   "outputs": [],
   "source": [
    "def ridgeregress(X,y,a):\n",
    "    ridge = Ridge(alpha=a)\n",
    "    # Test-train split\n",
    "    X_train, X_test, y_train, y_test = train_test_split(X, y, test_size=0.2,train_size=0.8, random_state=137)\n",
    "    ridge.fit(X_train,y_train)\n",
    "    ridge_cv = RidgeCV(alphas=lambdas)\n",
    "    ridge_cv.fit(X_train,y_train)\n",
    "    best_lambda = ridge_cv.alpha_\n",
    "    print(f'best lambda is {best_lambda}')\n",
    "\n",
    "    # Eval\n",
    "    y_pred = ridge.predict(X_test)\n",
    "    r2 = r2_score(y_test, y_pred)\n",
    "    mse = mean_squared_error(y_test, y_pred)\n",
    "    return r2, mse\n",
    "    \n",
    "r2s = np.zeros(4)\n",
    "mses = np.zeros(4)"
   ]
  },
  {
   "cell_type": "markdown",
   "metadata": {},
   "source": [
    "### LiPF6 Ridge Regression (\"1\")"
   ]
  },
  {
   "cell_type": "code",
   "execution_count": 7,
   "metadata": {},
   "outputs": [
    {
     "name": "stdout",
     "output_type": "stream",
     "text": [
      "best lambda is 0.1\n",
      "R² Score: 0.8082\n",
      "MSE: 3.4263\n"
     ]
    }
   ],
   "source": [
    "r2_LiPF6, mse_LiPF6 = ridgeregress(X_LiPF6,y_LiPF6,0.1)\n",
    "print(f\"R² Score: {r2_LiPF6:.4f}\")\n",
    "print(f\"MSE: {mse_LiPF6:.4f}\")\n",
    "r2s[0] = r2_LiPF6\n",
    "mses[0] = mse_LiPF6"
   ]
  },
  {
   "cell_type": "markdown",
   "metadata": {},
   "source": [
    "### LiBF4 Ridge Regression (\"2\")"
   ]
  },
  {
   "cell_type": "code",
   "execution_count": 8,
   "metadata": {},
   "outputs": [
    {
     "name": "stdout",
     "output_type": "stream",
     "text": [
      "best lambda is 10.0\n",
      "R² Score: 0.7822\n",
      "MSE: 0.6196\n"
     ]
    }
   ],
   "source": [
    "r2_LiBF4, mse_LiBF4 = ridgeregress(X_LiBF4,y_LiBF4,10.0)\n",
    "print(f\"R² Score: {r2_LiBF4:.4f}\")\n",
    "print(f\"MSE: {mse_LiBF4:.4f}\")\n",
    "r2s[1] = r2_LiBF4\n",
    "mses[1] = mse_LiBF4"
   ]
  },
  {
   "cell_type": "markdown",
   "metadata": {},
   "source": [
    "### LiAsF6 Ridge Regression (\"3\")"
   ]
  },
  {
   "cell_type": "code",
   "execution_count": 9,
   "metadata": {},
   "outputs": [
    {
     "name": "stdout",
     "output_type": "stream",
     "text": [
      "best lambda is 10.0\n",
      "R² Score: 0.7655\n",
      "MSE: 8.9498\n"
     ]
    }
   ],
   "source": [
    "r2_LiAsF6, mse_LiAsF6 = ridgeregress(X_LiAsF6,y_LiAsF6,10.0)\n",
    "print(f\"R² Score: {r2_LiAsF6:.4f}\")\n",
    "print(f\"MSE: {mse_LiAsF6:.4f}\")\n",
    "r2s[2] = r2_LiAsF6\n",
    "mses[2] = mse_LiAsF6"
   ]
  },
  {
   "cell_type": "markdown",
   "metadata": {},
   "source": [
    "### LiBOB Ridge Regression (\"4\")"
   ]
  },
  {
   "cell_type": "code",
   "execution_count": 10,
   "metadata": {},
   "outputs": [
    {
     "name": "stdout",
     "output_type": "stream",
     "text": [
      "best lambda is 1.0\n",
      "R² Score: 0.8103\n",
      "MSE: 2.7253\n"
     ]
    }
   ],
   "source": [
    "r2_LiBOB, mse_LiBOB = ridgeregress(X_LiBOB,y_LiBOB,1.0)\n",
    "print(f\"R² Score: {r2_LiBOB:.4f}\")\n",
    "print(f\"MSE: {mse_LiBOB:.4f}\")\n",
    "r2s[3] = r2_LiBOB\n",
    "mses[3] = mse_LiBOB"
   ]
  },
  {
   "cell_type": "markdown",
   "metadata": {},
   "source": [
    "### What do we make of the data now that we've got it?"
   ]
  },
  {
   "cell_type": "code",
   "execution_count": 11,
   "metadata": {},
   "outputs": [
    {
     "name": "stdout",
     "output_type": "stream",
     "text": [
      "The R² scores in order: [0.80817195 0.78216833 0.76551763 0.81027494]; and the MSEs: [3.42634628 0.61957036 8.94975681 2.72526094]\n"
     ]
    }
   ],
   "source": [
    "print(f'The R² scores in order: {r2s}; and the MSEs: {mses}')"
   ]
  }
 ],
 "metadata": {
  "kernelspec": {
   "display_name": "matsci176",
   "language": "python",
   "name": "python3"
  },
  "language_info": {
   "codemirror_mode": {
    "name": "ipython",
    "version": 3
   },
   "file_extension": ".py",
   "mimetype": "text/x-python",
   "name": "python",
   "nbconvert_exporter": "python",
   "pygments_lexer": "ipython3",
   "version": "3.13.1"
  }
 },
 "nbformat": 4,
 "nbformat_minor": 2
}
